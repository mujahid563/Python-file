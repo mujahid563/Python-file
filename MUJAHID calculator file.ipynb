{
 "cells": [
  {
   "cell_type": "code",
   "execution_count": 6,
   "id": "889c776a",
   "metadata": {},
   "outputs": [
    {
     "name": "stdout",
     "output_type": "stream",
     "text": [
      "enter a =56\n",
      "enter b =45\n",
      "enter optmult\n",
      "2520\n"
     ]
    }
   ],
   "source": [
    "a=int(input('enter a ='))\n",
    "b=int(input('enter b ='))\n",
    "opt=input('enter opt')\n",
    "if opt=='sum':\n",
    "    c=a+b\n",
    "    print(c)\n",
    "elif opt=='sub':\n",
    "    h=a-b\n",
    "    print(h)\n",
    "elif opt=='mult':\n",
    "    k=a*b\n",
    "    print(k)\n",
    "elif opt=='divi':\n",
    "    l=a/b\n",
    "    print(l)\n"
   ]
  },
  {
   "cell_type": "code",
   "execution_count": null,
   "id": "45110e98",
   "metadata": {},
   "outputs": [],
   "source": []
  }
 ],
 "metadata": {
  "kernelspec": {
   "display_name": "Python 3 (ipykernel)",
   "language": "python",
   "name": "python3"
  },
  "language_info": {
   "codemirror_mode": {
    "name": "ipython",
    "version": 3
   },
   "file_extension": ".py",
   "mimetype": "text/x-python",
   "name": "python",
   "nbconvert_exporter": "python",
   "pygments_lexer": "ipython3",
   "version": "3.9.13"
  }
 },
 "nbformat": 4,
 "nbformat_minor": 5
}
