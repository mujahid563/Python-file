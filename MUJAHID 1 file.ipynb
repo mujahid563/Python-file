{
 "cells": [
  {
   "cell_type": "code",
   "execution_count": 2,
   "id": "e955683f",
   "metadata": {},
   "outputs": [
    {
     "name": "stdout",
     "output_type": "stream",
     "text": [
      "Ahmed Ul islam Khan\n"
     ]
    }
   ],
   "source": [
    "print('Ahmed Ul islam Khan')"
   ]
  },
  {
   "cell_type": "code",
   "execution_count": 3,
   "id": "8219bd7d",
   "metadata": {},
   "outputs": [
    {
     "data": {
      "text/plain": [
       "6"
      ]
     },
     "execution_count": 3,
     "metadata": {},
     "output_type": "execute_result"
    }
   ],
   "source": [
    "a=2\n",
    "b=4\n",
    "a+b"
   ]
  },
  {
   "cell_type": "code",
   "execution_count": 4,
   "id": "ead64022",
   "metadata": {},
   "outputs": [
    {
     "data": {
      "text/plain": [
       "-10"
      ]
     },
     "execution_count": 4,
     "metadata": {},
     "output_type": "execute_result"
    }
   ],
   "source": [
    "a=10\n",
    "b=20\n",
    "a-b"
   ]
  },
  {
   "cell_type": "code",
   "execution_count": 5,
   "id": "3816fdb4",
   "metadata": {},
   "outputs": [
    {
     "data": {
      "text/plain": [
       "30"
      ]
     },
     "execution_count": 5,
     "metadata": {},
     "output_type": "execute_result"
    }
   ],
   "source": [
    "a=5\n",
    "b=6\n",
    "a*b"
   ]
  },
  {
   "cell_type": "code",
   "execution_count": 6,
   "id": "e07d96da",
   "metadata": {},
   "outputs": [
    {
     "data": {
      "text/plain": [
       "2.0"
      ]
     },
     "execution_count": 6,
     "metadata": {},
     "output_type": "execute_result"
    }
   ],
   "source": [
    "a=10\n",
    "b=5\n",
    "a/b\n"
   ]
  },
  {
   "cell_type": "markdown",
   "id": "1db45622",
   "metadata": {},
   "source": []
  },
  {
   "cell_type": "code",
   "execution_count": 8,
   "id": "5cf51996",
   "metadata": {},
   "outputs": [
    {
     "name": "stdout",
     "output_type": "stream",
     "text": [
      "Hi! What's your name? Ahmed\n",
      "Nice to meet youAhmed!\n",
      "How old are you23\n",
      "So, you are already23year old,Ahmed!\n"
     ]
    }
   ],
   "source": [
    "name=input(\"Hi! What's your name? \")\n",
    "print(\"Nice to meet you\" + name + \"!\")\n",
    "age= input(\"How old are you\")\n",
    "print(\"So, you are already\" + str(age) + \"year old,\" + name + \"!\")"
   ]
  },
  {
   "cell_type": "markdown",
   "id": "12f8f37e",
   "metadata": {},
   "source": [
    "# # lists"
   ]
  },
  {
   "cell_type": "code",
   "execution_count": 9,
   "id": "de9d63a8",
   "metadata": {},
   "outputs": [
    {
     "name": "stdout",
     "output_type": "stream",
     "text": [
      "[2, 3, 5, 7, 11]\n"
     ]
    }
   ],
   "source": [
    "primes=[2, 3, 5, 7, 11]\n",
    "print(primes)\n",
    "empty_list = []"
   ]
  },
  {
   "cell_type": "markdown",
   "id": "cb039915",
   "metadata": {},
   "source": [
    "# Adding Lists Toghter\n"
   ]
  },
  {
   "cell_type": "code",
   "execution_count": 11,
   "id": "d50fd279",
   "metadata": {},
   "outputs": [
    {
     "name": "stdout",
     "output_type": "stream",
     "text": [
      "['cake', 'cookie', 'bread', 'biscuit', 'tart']\n"
     ]
    }
   ],
   "source": [
    "items = ['cake', 'cookie', 'bread']\n",
    "total_items = items + ['biscuit', 'tart']\n",
    "print(total_items)\n",
    "# Results: ['cake', 'cookie', 'bread', 'biscuit', 'tart']"
   ]
  },
  {
   "cell_type": "markdown",
   "id": "c2dfc7ad",
   "metadata": {},
   "source": [
    " # Python lists:Data Types"
   ]
  },
  {
   "cell_type": "code",
   "execution_count": 12,
   "id": "514eb942",
   "metadata": {},
   "outputs": [],
   "source": [
    "numbers = [1, 2, 3, 4, 10]\n",
    "names = ['Jenny', 'Sam', 'Alexis']\n",
    "mixed = ['Jenny', 1, 2]\n",
    "list_of_lists = [['a' , 1], ['b', 2]]"
   ]
  },
  {
   "cell_type": "markdown",
   "id": "d7bd7317",
   "metadata": {},
   "source": [
    " # List Method .append()"
   ]
  },
  {
   "cell_type": "code",
   "execution_count": 13,
   "id": "ea16c779",
   "metadata": {},
   "outputs": [
    {
     "name": "stdout",
     "output_type": "stream",
     "text": [
      "['daisies', 'periwinkle', 'tulips']\n"
     ]
    }
   ],
   "source": [
    "orders = ['daisies', 'periwinkle']\n",
    "orders.append('tulips')\n",
    "print(orders)\n",
    "# Result: ['daisies', 'periwinkle', 'tulips']"
   ]
  },
  {
   "cell_type": "markdown",
   "id": "7c9fcf6e",
   "metadata": {},
   "source": [
    "# Zero-Indexing\n"
   ]
  },
  {
   "cell_type": "code",
   "execution_count": 14,
   "id": "a3bccaf7",
   "metadata": {},
   "outputs": [],
   "source": [
    "names = ['Roger', 'Rafael', 'Andy', 'Novak']"
   ]
  },
  {
   "cell_type": "markdown",
   "id": "29e34faf",
   "metadata": {},
   "source": [
    "# List Indices"
   ]
  },
  {
   "cell_type": "code",
   "execution_count": 15,
   "id": "12a8844e",
   "metadata": {},
   "outputs": [
    {
     "data": {
      "text/plain": [
       "'raspberry'"
      ]
     },
     "execution_count": 15,
     "metadata": {},
     "output_type": "execute_result"
    }
   ],
   "source": [
    "berries = [\"blueberry\", \"craberry\", \"raspberry\"]\n",
    "berries[0]  # \"blueberry\"\n",
    "berries[2]  # \"raspberry\""
   ]
  },
  {
   "cell_type": "markdown",
   "id": "1592fe0d",
   "metadata": {},
   "source": [
    "# Negative list Indices\n"
   ]
  },
  {
   "cell_type": "code",
   "execution_count": 16,
   "id": "8c7b26e8",
   "metadata": {},
   "outputs": [
    {
     "data": {
      "text/plain": [
       "['minestrone']"
      ]
     },
     "execution_count": 16,
     "metadata": {},
     "output_type": "execute_result"
    }
   ],
   "source": [
    "soups = ['minestrone', 'lentil', 'pho' 'laksa']\n",
    "soups[-1]  # 'lasksa'\n",
    "soups[-3]  # 'lentil', 'pho', 'lasksa'\n",
    "soups[:-2] # 'minrstrone', 'Lentil'"
   ]
  },
  {
   "cell_type": "markdown",
   "id": "2f2f41c5",
   "metadata": {},
   "source": [
    "# Modifying 2D Lists"
   ]
  },
  {
   "cell_type": "code",
   "execution_count": 21,
   "id": "83f0539e",
   "metadata": {},
   "outputs": [
    {
     "name": "stdout",
     "output_type": "stream",
     "text": [
      "[['Jenny', 'Meditation'], ['alexus', 'photography'], ['grace', 'soccer']]\n"
     ]
    }
   ],
   "source": [
    "# A 2D list of nam,es and hobbies\n",
    "class_name_hobbies = [[\"Jenny\", \"breaking\"], [\"alexus\", \"photography\"], [\"grace\", \"soccer\"]]\n",
    "\n",
    "# The sublist of Jenny is at index 0. The hobb is at index 1 of the sublist.\n",
    "class_name_hobbies[0][1] = \"Meditation\"\n",
    "print(class_name_hobbies)\n",
    "\n"
   ]
  },
  {
   "cell_type": "markdown",
   "id": "58fe41fa",
   "metadata": {},
   "source": [
    "# Method .sort()\n"
   ]
  },
  {
   "cell_type": "code",
   "execution_count": 1,
   "id": "3368b40e",
   "metadata": {},
   "outputs": [
    {
     "name": "stdout",
     "output_type": "stream",
     "text": [
      "[1, 2, 3, 4]\n"
     ]
    }
   ],
   "source": [
    "exampleList =[3, 2, 4, 1]\n",
    "exampleList.sort()\n",
    "print(exampleList)\n"
   ]
  },
  {
   "cell_type": "code",
   "execution_count": 2,
   "id": "9c4b0d6b",
   "metadata": {},
   "outputs": [
    {
     "name": "stdout",
     "output_type": "stream",
     "text": [
      "[1, 2, 3, 4, 5, 6, 8]\n"
     ]
    }
   ],
   "source": [
    "exampleList =[5, 2, 3, 1, 8, 6, 4]\n",
    "exampleList.sort()\n",
    "print(exampleList)\n"
   ]
  },
  {
   "cell_type": "code",
   "execution_count": 3,
   "id": "f744a6c8",
   "metadata": {},
   "outputs": [
    {
     "name": "stdout",
     "output_type": "stream",
     "text": [
      "[1, 2, 3, 4, 5]\n"
     ]
    }
   ],
   "source": [
    "A =[3, 1, 5, 2, 4]\n",
    "A.sort()\n",
    "print(A)"
   ]
  },
  {
   "cell_type": "code",
   "execution_count": 5,
   "id": "1cdce33c",
   "metadata": {},
   "outputs": [],
   "source": [
    "ab = [1,1,2,5,6,8,4,2,7,5,3,78,2,4,8,3,67,8,5]\n"
   ]
  },
  {
   "cell_type": "code",
   "execution_count": 9,
   "id": "bcb7d04b",
   "metadata": {},
   "outputs": [
    {
     "data": {
      "text/plain": [
       "[6, 8, 4, 2, 7, 5, 3, 78, 2, 4, 8, 3, 67, 8, 5]"
      ]
     },
     "execution_count": 9,
     "metadata": {},
     "output_type": "execute_result"
    }
   ],
   "source": [
    "ab[4:]"
   ]
  },
  {
   "cell_type": "markdown",
   "id": "febe24a2",
   "metadata": {},
   "source": [
    "# slicing"
   ]
  },
  {
   "cell_type": "code",
   "execution_count": 15,
   "id": "05948e78",
   "metadata": {},
   "outputs": [
    {
     "data": {
      "text/plain": [
       "[1, 34, 6, 5, 56, 34]"
      ]
     },
     "execution_count": 15,
     "metadata": {},
     "output_type": "execute_result"
    }
   ],
   "source": [
    "a = [1,34,6,5,56,34]\n",
    "a[:]"
   ]
  },
  {
   "cell_type": "markdown",
   "id": "561dcccf",
   "metadata": {},
   "source": [
    "# sorted"
   ]
  },
  {
   "cell_type": "code",
   "execution_count": 18,
   "id": "f5cf7d82",
   "metadata": {},
   "outputs": [
    {
     "name": "stdout",
     "output_type": "stream",
     "text": [
      "[1, 3, 4, 6, 7, 9]\n"
     ]
    }
   ],
   "source": [
    "A = [1,7,4,9,6,3]\n",
    "A = sorted(A)\n",
    "print(A)"
   ]
  },
  {
   "cell_type": "markdown",
   "id": "df2676f9",
   "metadata": {},
   "source": [
    "# .pop()"
   ]
  },
  {
   "cell_type": "code",
   "execution_count": 40,
   "id": "25c313cf",
   "metadata": {},
   "outputs": [
    {
     "name": "stdout",
     "output_type": "stream",
     "text": [
      "['asda', 'ali', 'ahmad', 'umer', 'abubakar']\n",
      "usman\n",
      "['asda', 'ahmad', 'umer', 'abubakar']\n",
      "['asda', 'ali', 'ahmad', 'umer', 'abubakar']\n",
      "5\n",
      "5\n",
      "2\n"
     ]
    }
   ],
   "source": [
    "A = [\"asda\",\"ali\",\"ahmad\",\"usman\",\"umer\",\"abubakar\"]\n",
    "B = A.pop(3)\n",
    "print(A)\n",
    "print(B)\n",
    "A.pop(1)\n",
    "print(A)\n",
    "A.insert(1,\"ali\")\n",
    "print(A)\n",
    "C = len(A)\n",
    "print(C)\n",
    "C = len(B)\n",
    "print(C)\n",
    "W = [\"ali\",\"arslan\",\"ali\",\"ARSLAN\"]\n",
    "S = W.count(\"ali\")\n",
    "print(S)\n"
   ]
  },
  {
   "cell_type": "code",
   "execution_count": 44,
   "id": "1aae6517",
   "metadata": {},
   "outputs": [
    {
     "name": "stdout",
     "output_type": "stream",
     "text": [
      "54\n"
     ]
    }
   ],
   "source": [
    "H = [[\"Ali\", 35],[\"Subhan\", 54],[\"usman\", 25]]\n",
    "H = H[1][1]\n",
    "print(H)"
   ]
  },
  {
   "cell_type": "code",
   "execution_count": null,
   "id": "008491f2",
   "metadata": {},
   "outputs": [],
   "source": []
  }
 ],
 "metadata": {
  "kernelspec": {
   "display_name": "Python 3 (ipykernel)",
   "language": "python",
   "name": "python3"
  },
  "language_info": {
   "codemirror_mode": {
    "name": "ipython",
    "version": 3
   },
   "file_extension": ".py",
   "mimetype": "text/x-python",
   "name": "python",
   "nbconvert_exporter": "python",
   "pygments_lexer": "ipython3",
   "version": "3.9.13"
  }
 },
 "nbformat": 4,
 "nbformat_minor": 5
}
