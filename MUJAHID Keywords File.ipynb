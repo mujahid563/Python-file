{
 "cells": [
  {
   "cell_type": "markdown",
   "id": "4841cb18",
   "metadata": {},
   "source": [
    "# and,or,not"
   ]
  },
  {
   "cell_type": "code",
   "execution_count": 1,
   "id": "5f53eb0f",
   "metadata": {},
   "outputs": [
    {
     "data": {
      "text/plain": [
       "True"
      ]
     },
     "execution_count": 1,
     "metadata": {},
     "output_type": "execute_result"
    }
   ],
   "source": [
    "x,y=True, False\n",
    "(x or y) == True\n",
    "(x and y) == False\n",
    "(not y) == True\n"
   ]
  },
  {
   "cell_type": "code",
   "execution_count": 2,
   "id": "1e92c565",
   "metadata": {},
   "outputs": [
    {
     "name": "stdout",
     "output_type": "stream",
     "text": [
      "Hello World\n"
     ]
    }
   ],
   "source": [
    "while(True):\n",
    "    break\n",
    "print(\"Hello World\")    "
   ]
  },
  {
   "cell_type": "code",
   "execution_count": null,
   "id": "15b2c654",
   "metadata": {},
   "outputs": [],
   "source": [
    "while(True):\n",
    "    continue\n",
    "print(\"Hello World\")    "
   ]
  },
  {
   "cell_type": "code",
   "execution_count": 19,
   "id": "6571cba8",
   "metadata": {},
   "outputs": [
    {
     "name": "stdout",
     "output_type": "stream",
     "text": [
      "your value:3\n",
      "Medium\n"
     ]
    }
   ],
   "source": [
    "x = int(input(\"your value:\"))\n",
    "if x>3: print(\"Big\")\n",
    "elif x==3: print(\"Medium\")\n",
    "else: print(\"small\")    \n",
    "    "
   ]
  },
  {
   "cell_type": "code",
   "execution_count": 23,
   "id": "56f1282b",
   "metadata": {},
   "outputs": [
    {
     "name": "stdout",
     "output_type": "stream",
     "text": [
      "0\n",
      "1\n",
      "2\n"
     ]
    }
   ],
   "source": [
    "j=0\n",
    "while j<3:\n",
    "    print(j)\n",
    "    j=j+1\n",
    "    "
   ]
  },
  {
   "cell_type": "code",
   "execution_count": 26,
   "id": "49c463c4",
   "metadata": {},
   "outputs": [
    {
     "data": {
      "text/plain": [
       "False"
      ]
     },
     "execution_count": 26,
     "metadata": {},
     "output_type": "execute_result"
    }
   ],
   "source": [
    "24in [2,34,87,42]"
   ]
  },
  {
   "cell_type": "code",
   "execution_count": 29,
   "id": "231c15bf",
   "metadata": {},
   "outputs": [
    {
     "data": {
      "text/plain": [
       "False"
      ]
     },
     "execution_count": 29,
     "metadata": {},
     "output_type": "execute_result"
    }
   ],
   "source": [
    "y=x=3\n",
    "x is y\n",
    "[3] is [3]"
   ]
  },
  {
   "cell_type": "code",
   "execution_count": 146,
   "id": "f8ffafbf",
   "metadata": {},
   "outputs": [
    {
     "data": {
      "text/plain": [
       "True"
      ]
     },
     "execution_count": 146,
     "metadata": {},
     "output_type": "execute_result"
    }
   ],
   "source": [
    "[3]==[3]"
   ]
  },
  {
   "cell_type": "code",
   "execution_count": 39,
   "id": "a18cd703",
   "metadata": {},
   "outputs": [
    {
     "data": {
      "text/plain": [
       "True"
      ]
     },
     "execution_count": 39,
     "metadata": {},
     "output_type": "execute_result"
    }
   ],
   "source": [
    "def f():\n",
    "    x=2\n",
    "f() is None  \n",
    "    "
   ]
  },
  {
   "cell_type": "code",
   "execution_count": 42,
   "id": "4971643c",
   "metadata": {},
   "outputs": [
    {
     "data": {
      "text/plain": [
       "8"
      ]
     },
     "execution_count": 42,
     "metadata": {},
     "output_type": "execute_result"
    }
   ],
   "source": [
    "(lambda x: x+3)(5)"
   ]
  },
  {
   "cell_type": "code",
   "execution_count": 46,
   "id": "11b8f901",
   "metadata": {},
   "outputs": [
    {
     "data": {
      "text/plain": [
       "6"
      ]
     },
     "execution_count": 46,
     "metadata": {},
     "output_type": "execute_result"
    }
   ],
   "source": [
    "def incrementor(x):\n",
    "    return x+1\n",
    "incrementor(5)"
   ]
  },
  {
   "cell_type": "code",
   "execution_count": 50,
   "id": "1d61af63",
   "metadata": {},
   "outputs": [
    {
     "name": "stdout",
     "output_type": "stream",
     "text": [
      "True\n",
      "True\n"
     ]
    }
   ],
   "source": [
    "x,y=True,False\n",
    "print(x and not y)\n",
    "print(not x and y or x)\n",
    "if None or 0 or 0.0 or '' or [] or {} or set():\n",
    "    print(\"Dead code\")\n",
    "    "
   ]
  },
  {
   "cell_type": "code",
   "execution_count": 53,
   "id": "b45f5674",
   "metadata": {},
   "outputs": [
    {
     "name": "stdout",
     "output_type": "stream",
     "text": [
      "5\n",
      "1\n",
      "1\n",
      "3\n"
     ]
    }
   ],
   "source": [
    "x,y=3,2\n",
    "print(x+y)\n",
    "print(x-y)\n",
    "print(x//y)\n",
    "print(abs(-x))\n",
    "    "
   ]
  },
  {
   "cell_type": "code",
   "execution_count": 120,
   "id": "daca4b8a",
   "metadata": {},
   "outputs": [
    {
     "name": "stdout",
     "output_type": "stream",
     "text": [
      "T\n",
      "ou\n",
      "ol\n",
      "old\n",
      "11oldpopes\n"
     ]
    }
   ],
   "source": [
    "s =\"The youngest pope was 11 years old\"\n",
    "print(s[0])\n",
    "print(s[5:7])\n",
    "print(s[-3:-1])\n",
    "print(s[-3:])\n",
    "x=s.split()\n",
    "print(x[-3]+\"\"+x[-1]+\"\"+x[2]+\"s\")"
   ]
  },
  {
   "cell_type": "code",
   "execution_count": 93,
   "id": "4ae250d9",
   "metadata": {},
   "outputs": [
    {
     "data": {
      "text/plain": [
       "['The', 'youngest', 'pope', 'was', '11', 'years', 'old']"
      ]
     },
     "execution_count": 93,
     "metadata": {},
     "output_type": "execute_result"
    }
   ],
   "source": [
    "s.split()"
   ]
  },
  {
   "cell_type": "code",
   "execution_count": 61,
   "id": "16a06886",
   "metadata": {},
   "outputs": [
    {
     "name": "stdout",
     "output_type": "stream",
     "text": [
      "5\n"
     ]
    }
   ],
   "source": [
    "l=[1,2,3,4,1]\n",
    "print(len(l))"
   ]
  },
  {
   "cell_type": "code",
   "execution_count": 80,
   "id": "fc1c2f76",
   "metadata": {},
   "outputs": [
    {
     "name": "stdout",
     "output_type": "stream",
     "text": [
      "[1, 3, 2, 4]\n",
      "[1, 2, 4, 2]\n"
     ]
    },
    {
     "data": {
      "text/plain": [
       "[1, 2, 2, 4]"
      ]
     },
     "execution_count": 80,
     "metadata": {},
     "output_type": "execute_result"
    }
   ],
   "source": [
    "F=[1, 3, 2]\n",
    "F.append(4)\n",
    "print(F)\n",
    "A=[1,2,4]\n",
    "A.insert(3,2)\n",
    "print(A)\n",
    "[1,2,2]+[4]\n"
   ]
  },
  {
   "cell_type": "code",
   "execution_count": 72,
   "id": "ab897034",
   "metadata": {},
   "outputs": [
    {
     "name": "stdout",
     "output_type": "stream",
     "text": [
      "[1, 3, 5]\n"
     ]
    }
   ],
   "source": [
    "A=[1,2,3,5]\n",
    "A.remove(2)\n",
    "print(A)"
   ]
  },
  {
   "cell_type": "code",
   "execution_count": 74,
   "id": "fc220791",
   "metadata": {},
   "outputs": [
    {
     "name": "stdout",
     "output_type": "stream",
     "text": [
      "[4, 3, 2, 1]\n"
     ]
    }
   ],
   "source": [
    "A=[1,2,3,4]\n",
    "A.reverse()\n",
    "print(A)"
   ]
  },
  {
   "cell_type": "code",
   "execution_count": 73,
   "id": "cb73fb6e",
   "metadata": {},
   "outputs": [
    {
     "name": "stdout",
     "output_type": "stream",
     "text": [
      "[1, 3, 4, 5, 5, 6, 8]\n"
     ]
    }
   ],
   "source": [
    "A=[1,5,6,8,3,4,5]\n",
    "A.sort()\n",
    "print(A)"
   ]
  },
  {
   "cell_type": "code",
   "execution_count": 81,
   "id": "f573b56f",
   "metadata": {},
   "outputs": [
    {
     "data": {
      "text/plain": [
       "0"
      ]
     },
     "execution_count": 81,
     "metadata": {},
     "output_type": "execute_result"
    }
   ],
   "source": [
    "[2,2,4].index(2)"
   ]
  },
  {
   "cell_type": "code",
   "execution_count": 82,
   "id": "d553b409",
   "metadata": {},
   "outputs": [
    {
     "data": {
      "text/plain": [
       "1"
      ]
     },
     "execution_count": 82,
     "metadata": {},
     "output_type": "execute_result"
    }
   ],
   "source": [
    "[2,2,4].index(2,1)"
   ]
  },
  {
   "cell_type": "code",
   "execution_count": 87,
   "id": "1b6cd1b8",
   "metadata": {},
   "outputs": [
    {
     "name": "stdout",
     "output_type": "stream",
     "text": [
      "[3, 42]\n",
      "[3]\n",
      "[]\n"
     ]
    }
   ],
   "source": [
    "stack=[3]\n",
    "stack.append(42)\n",
    "print(stack)\n",
    "stack.pop(1)\n",
    "print(stack)\n",
    "stack.pop(0)\n",
    "print(stack)"
   ]
  },
  {
   "cell_type": "code",
   "execution_count": 134,
   "id": "50f7c667",
   "metadata": {},
   "outputs": [
    {
     "name": "stdout",
     "output_type": "stream",
     "text": [
      "True\n",
      "False\n",
      "True\n",
      "True\n"
     ]
    }
   ],
   "source": [
    "basket={'apple','eggs','banana','orange'}\n",
    "same=set(['apple','eggs','banana','orange'])\n",
    "calories={'apple':52,'banana':89,'choco':546}\n",
    "print(calories['apple']<calories['choco'])\n",
    "calories['cappu']=74\n",
    "print(calories['banana']<calories['cappu'])\n",
    "print('apple' in calories.keys())\n",
    "print(52 in calories.values())"
   ]
  },
  {
   "cell_type": "code",
   "execution_count": 104,
   "id": "234bd953",
   "metadata": {},
   "outputs": [
    {
     "name": "stdout",
     "output_type": "stream",
     "text": [
      "choco\n"
     ]
    }
   ],
   "source": [
    "for k,v in calories.items():\n",
    "    print(k) if v >500 else None"
   ]
  },
  {
   "cell_type": "code",
   "execution_count": 110,
   "id": "3f002242",
   "metadata": {},
   "outputs": [
    {
     "name": "stdout",
     "output_type": "stream",
     "text": [
      "['HiAlice', 'HiBob', 'HiPete']\n",
      "[0, 0, 2]\n",
      "{0, 4}\n"
     ]
    }
   ],
   "source": [
    "l=[('Hi'+x)for x in['Alice','Bob','Pete']]\n",
    "print(l)\n",
    "k=[x*y for x in range(3) for y in range(3) if x>y]\n",
    "print(k)\n",
    "squares={x**2 for x in [0,2,4] if x<4}\n",
    "print(squares)"
   ]
  },
  {
   "cell_type": "markdown",
   "id": "131023dc",
   "metadata": {},
   "source": [
    "# Functions and Tricks"
   ]
  },
  {
   "cell_type": "code",
   "execution_count": 121,
   "id": "ae8c5e80",
   "metadata": {},
   "outputs": [
    {
     "data": {
      "text/plain": [
       "['r', 'g', 'b']"
      ]
     },
     "execution_count": 121,
     "metadata": {},
     "output_type": "execute_result"
    }
   ],
   "source": [
    "list(map(lambda x: x[0],['red','green','blue']))"
   ]
  },
  {
   "cell_type": "code",
   "execution_count": 123,
   "id": "652115df",
   "metadata": {},
   "outputs": [
    {
     "data": {
      "text/plain": [
       "['0 apples', '2 oranges', '2 bananas']"
      ]
     },
     "execution_count": 123,
     "metadata": {},
     "output_type": "execute_result"
    }
   ],
   "source": [
    "list(map(lambda x, y : str(x) + ' ' + y + 's',[0,2,2],['apple','orange','banana']))"
   ]
  },
  {
   "cell_type": "code",
   "execution_count": 131,
   "id": "2abc51f6",
   "metadata": {},
   "outputs": [
    {
     "data": {
      "text/plain": [
       "'Alice marries Bob'"
      ]
     },
     "execution_count": 131,
     "metadata": {},
     "output_type": "execute_result"
    }
   ],
   "source": [
    "' marries '.join(list(['Alice','Bob']))"
   ]
  },
  {
   "cell_type": "code",
   "execution_count": 138,
   "id": "a24f3502",
   "metadata": {},
   "outputs": [
    {
     "data": {
      "text/plain": [
       "[28]"
      ]
     },
     "execution_count": 138,
     "metadata": {},
     "output_type": "execute_result"
    }
   ],
   "source": [
    "list(filter(lambda x: True if x>17 else False,[1,15,17,28]))"
   ]
  },
  {
   "cell_type": "code",
   "execution_count": 139,
   "id": "631ac486",
   "metadata": {},
   "outputs": [
    {
     "name": "stdout",
     "output_type": "stream",
     "text": [
      "42\n"
     ]
    }
   ],
   "source": [
    "print(\"\\n \\t 42 \\t\".strip())"
   ]
  },
  {
   "cell_type": "code",
   "execution_count": 140,
   "id": "0a3fafa6",
   "metadata": {},
   "outputs": [
    {
     "data": {
      "text/plain": [
       "[42, 2, 3, 5, 8]"
      ]
     },
     "execution_count": 140,
     "metadata": {},
     "output_type": "execute_result"
    }
   ],
   "source": [
    "sorted([8,3,2,42,5],key=lambda x:0 if x==42 else x)"
   ]
  },
  {
   "cell_type": "code",
   "execution_count": 151,
   "id": "109cd4fd",
   "metadata": {},
   "outputs": [
    {
     "data": {
      "text/plain": [
       "'ILH LH LH OYYB;YYYYYYYLY'"
      ]
     },
     "execution_count": 151,
     "metadata": {},
     "output_type": "execute_result"
    }
   ],
   "source": [
    "f = 'ilh lh lh oyyb;YYYYYYYLY'\n",
    "f.upper()"
   ]
  },
  {
   "cell_type": "code",
   "execution_count": 147,
   "id": "af616d3d",
   "metadata": {},
   "outputs": [
    {
     "data": {
      "text/plain": [
       "[('ALic', 'Bob'), ('anna', 'Jon')]"
      ]
     },
     "execution_count": 147,
     "metadata": {},
     "output_type": "execute_result"
    }
   ],
   "source": [
    "list(zip(['ALic','anna'],['Bob','Jon','Frank']))"
   ]
  },
  {
   "cell_type": "code",
   "execution_count": 150,
   "id": "4d3ae6ad",
   "metadata": {},
   "outputs": [
    {
     "data": {
      "text/plain": [
       "[('ALic', 'anna'), ('Bob', 'Jon')]"
      ]
     },
     "execution_count": 150,
     "metadata": {},
     "output_type": "execute_result"
    }
   ],
   "source": [
    "list(zip(*[('ALic', 'Bob'), ('anna', 'Jon')]))"
   ]
  },
  {
   "cell_type": "code",
   "execution_count": null,
   "id": "bc75a8c1",
   "metadata": {},
   "outputs": [],
   "source": []
  }
 ],
 "metadata": {
  "kernelspec": {
   "display_name": "Python 3 (ipykernel)",
   "language": "python",
   "name": "python3"
  },
  "language_info": {
   "codemirror_mode": {
    "name": "ipython",
    "version": 3
   },
   "file_extension": ".py",
   "mimetype": "text/x-python",
   "name": "python",
   "nbconvert_exporter": "python",
   "pygments_lexer": "ipython3",
   "version": "3.9.13"
  }
 },
 "nbformat": 4,
 "nbformat_minor": 5
}
