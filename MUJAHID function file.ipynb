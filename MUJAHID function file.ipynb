{
 "cells": [
  {
   "cell_type": "markdown",
   "id": "ffb59780",
   "metadata": {},
   "source": [
    "def ahmed(character, setting, special_skill):\n",
    "    print(\"character\"+\" is in\"+\" setting\"+\" practicing\"+\" specical_skill\" )"
   ]
  },
  {
   "cell_type": "code",
   "execution_count": 49,
   "id": "04ebae2d",
   "metadata": {},
   "outputs": [
    {
     "name": "stdout",
     "output_type": "stream",
     "text": [
      "character is in setting practicing specical_skill\n"
     ]
    }
   ],
   "source": [
    "ahmed(\"h\",\"j\",\"s\")\n"
   ]
  },
  {
   "cell_type": "code",
   "execution_count": 37,
   "id": "9e70b2e9",
   "metadata": {},
   "outputs": [],
   "source": [
    "def A(x):\n",
    "    return x+1"
   ]
  },
  {
   "cell_type": "code",
   "execution_count": 40,
   "id": "e2041a54",
   "metadata": {},
   "outputs": [
    {
     "name": "stdout",
     "output_type": "stream",
     "text": [
      "27\n",
      "25\n"
     ]
    }
   ],
   "source": [
    "print(A(26))\n",
    "print(A(12+12))"
   ]
  },
  {
   "cell_type": "markdown",
   "id": "f94913cd",
   "metadata": {},
   "source": [
    "# Function identation"
   ]
  },
  {
   "cell_type": "code",
   "execution_count": 63,
   "id": "95aaff96",
   "metadata": {},
   "outputs": [
    {
     "name": "stdout",
     "output_type": "stream",
     "text": [
      "This function is not part of text\n"
     ]
    }
   ],
   "source": [
    "def test(number):\n",
    "    print(\"inside the text\")\n",
    "    sum=0\n",
    "    for x in range(number):\n",
    "        sum += x\n",
    "    return sum\n",
    "print(\"This function is not part of text\")"
   ]
  },
  {
   "cell_type": "code",
   "execution_count": 70,
   "id": "3dfdf241",
   "metadata": {},
   "outputs": [
    {
     "name": "stdout",
     "output_type": "stream",
     "text": [
      "inside the text\n"
     ]
    },
    {
     "data": {
      "text/plain": [
       "45"
      ]
     },
     "execution_count": 70,
     "metadata": {},
     "output_type": "execute_result"
    }
   ],
   "source": [
    "test(10)"
   ]
  },
  {
   "cell_type": "markdown",
   "id": "6e83bef7",
   "metadata": {},
   "source": [
    "# Function Arguments:"
   ]
  },
  {
   "cell_type": "code",
   "execution_count": 68,
   "id": "9ecfb991",
   "metadata": {},
   "outputs": [],
   "source": [
    "def sale(Mart, item_on_sale, cost):\n",
    "    print(Mart +\" is selling \", item_on_sale +\" for \" + cost +\" 1$\")"
   ]
  },
  {
   "cell_type": "code",
   "execution_count": 69,
   "id": "de72f974",
   "metadata": {},
   "outputs": [
    {
     "name": "stdout",
     "output_type": "stream",
     "text": [
      "Mart is selling  item_on_sale forcost 1$\n"
     ]
    }
   ],
   "source": [
    "sale(\"Mart\", \"item_on_sale\", \"cost\")"
   ]
  },
  {
   "cell_type": "markdown",
   "id": "5a1a50b6",
   "metadata": {},
   "source": [
    "# Function Keyword Arguments\n"
   ]
  },
  {
   "cell_type": "code",
   "execution_count": 2,
   "id": "529d9661",
   "metadata": {},
   "outputs": [
    {
     "name": "stdout",
     "output_type": "stream",
     "text": [
      "length = 1\n",
      "width = 2\n",
      "depth = 3\n",
      "length = 5\n",
      "width = 4\n",
      "depth = 2\n",
      "length = 2\n",
      "width = 4\n",
      "depth = 3\n"
     ]
    },
    {
     "data": {
      "text/plain": [
       "24"
      ]
     },
     "execution_count": 2,
     "metadata": {},
     "output_type": "execute_result"
    }
   ],
   "source": [
    "def findvolume(length=1,width=1,depth=1):\n",
    "    print(\"length = \" + str(length))\n",
    "    print(\"width = \" + str(width))\n",
    "    print(\"depth = \" + str(depth))\n",
    "    return length * width * depth;\n",
    "findvolume(1,2,3)\n",
    "findvolume(length=5, depth=2, width=4)\n",
    "findvolume(2, depth=3, width=4)"
   ]
  },
  {
   "cell_type": "markdown",
   "id": "54f06130",
   "metadata": {},
   "source": [
    "# Returning Multiple Values"
   ]
  },
  {
   "cell_type": "code",
   "execution_count": 6,
   "id": "20bfcc67",
   "metadata": {},
   "outputs": [],
   "source": [
    "def square_point(x,y,z):\n",
    "    x_squared= x*x\n",
    "    y_squared= y*y\n",
    "    z_squared= z*z\n",
    "    return x_squared, y_squared, z_squared\n",
    "three_squared, four_squared,five_squaed= square_point(3,4,5)"
   ]
  },
  {
   "cell_type": "code",
   "execution_count": 4,
   "id": "81d96a5c",
   "metadata": {},
   "outputs": [],
   "source": []
  },
  {
   "cell_type": "markdown",
   "id": "438b1a37",
   "metadata": {},
   "source": [
    "# The Scope of Variables"
   ]
  },
  {
   "cell_type": "code",
   "execution_count": 7,
   "id": "a8f64ab2",
   "metadata": {},
   "outputs": [],
   "source": [
    "a =5\n",
    "def f1():\n",
    "    a=2\n",
    "    print(a)"
   ]
  },
  {
   "cell_type": "code",
   "execution_count": 8,
   "id": "5be2115c",
   "metadata": {},
   "outputs": [
    {
     "name": "stdout",
     "output_type": "stream",
     "text": [
      "5\n",
      "2\n"
     ]
    }
   ],
   "source": [
    "print(a)\n",
    "f1()"
   ]
  },
  {
   "cell_type": "code",
   "execution_count": null,
   "id": "56206dfc",
   "metadata": {},
   "outputs": [],
   "source": []
  }
 ],
 "metadata": {
  "kernelspec": {
   "display_name": "Python 3 (ipykernel)",
   "language": "python",
   "name": "python3"
  },
  "language_info": {
   "codemirror_mode": {
    "name": "ipython",
    "version": 3
   },
   "file_extension": ".py",
   "mimetype": "text/x-python",
   "name": "python",
   "nbconvert_exporter": "python",
   "pygments_lexer": "ipython3",
   "version": "3.9.13"
  }
 },
 "nbformat": 4,
 "nbformat_minor": 5
}
