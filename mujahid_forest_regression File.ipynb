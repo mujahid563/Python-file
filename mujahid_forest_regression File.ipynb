{
 "cells": [
  {
   "cell_type": "markdown",
   "id": "db104f82",
   "metadata": {},
   "source": [
    "# Importing the Libraries"
   ]
  },
  {
   "cell_type": "code",
   "execution_count": 1,
   "id": "134e954c",
   "metadata": {},
   "outputs": [],
   "source": [
    "import numpy as np\n",
    "import matplotlib.pyplot as plt\n",
    "import pandas as pd"
   ]
  },
  {
   "cell_type": "markdown",
   "id": "50e6da31",
   "metadata": {},
   "source": [
    "# Importing the dataset"
   ]
  },
  {
   "cell_type": "code",
   "execution_count": 2,
   "id": "51b7587e",
   "metadata": {},
   "outputs": [],
   "source": [
    "dataset = pd.read_csv('Position_Salaries.csv')\n",
    "x = dataset.iloc[: , 1:-1].values\n",
    "y = dataset.iloc[:, -1].values"
   ]
  },
  {
   "cell_type": "code",
   "execution_count": 3,
   "id": "b3487df1",
   "metadata": {},
   "outputs": [
    {
     "data": {
      "text/html": [
       "<div>\n",
       "<style scoped>\n",
       "    .dataframe tbody tr th:only-of-type {\n",
       "        vertical-align: middle;\n",
       "    }\n",
       "\n",
       "    .dataframe tbody tr th {\n",
       "        vertical-align: top;\n",
       "    }\n",
       "\n",
       "    .dataframe thead th {\n",
       "        text-align: right;\n",
       "    }\n",
       "</style>\n",
       "<table border=\"1\" class=\"dataframe\">\n",
       "  <thead>\n",
       "    <tr style=\"text-align: right;\">\n",
       "      <th></th>\n",
       "      <th>Position</th>\n",
       "      <th>Level</th>\n",
       "      <th>Salary</th>\n",
       "    </tr>\n",
       "  </thead>\n",
       "  <tbody>\n",
       "    <tr>\n",
       "      <th>0</th>\n",
       "      <td>Business Analyst</td>\n",
       "      <td>1</td>\n",
       "      <td>45000</td>\n",
       "    </tr>\n",
       "    <tr>\n",
       "      <th>1</th>\n",
       "      <td>Junior Consultant</td>\n",
       "      <td>2</td>\n",
       "      <td>50000</td>\n",
       "    </tr>\n",
       "    <tr>\n",
       "      <th>2</th>\n",
       "      <td>Senior Consultant</td>\n",
       "      <td>3</td>\n",
       "      <td>60000</td>\n",
       "    </tr>\n",
       "    <tr>\n",
       "      <th>3</th>\n",
       "      <td>Manager</td>\n",
       "      <td>4</td>\n",
       "      <td>80000</td>\n",
       "    </tr>\n",
       "    <tr>\n",
       "      <th>4</th>\n",
       "      <td>Country Manager</td>\n",
       "      <td>5</td>\n",
       "      <td>110000</td>\n",
       "    </tr>\n",
       "    <tr>\n",
       "      <th>5</th>\n",
       "      <td>Region Manager</td>\n",
       "      <td>6</td>\n",
       "      <td>150000</td>\n",
       "    </tr>\n",
       "    <tr>\n",
       "      <th>6</th>\n",
       "      <td>Partner</td>\n",
       "      <td>7</td>\n",
       "      <td>200000</td>\n",
       "    </tr>\n",
       "    <tr>\n",
       "      <th>7</th>\n",
       "      <td>Senior Partner</td>\n",
       "      <td>8</td>\n",
       "      <td>300000</td>\n",
       "    </tr>\n",
       "    <tr>\n",
       "      <th>8</th>\n",
       "      <td>C-level</td>\n",
       "      <td>9</td>\n",
       "      <td>500000</td>\n",
       "    </tr>\n",
       "    <tr>\n",
       "      <th>9</th>\n",
       "      <td>CEO</td>\n",
       "      <td>10</td>\n",
       "      <td>1000000</td>\n",
       "    </tr>\n",
       "  </tbody>\n",
       "</table>\n",
       "</div>"
      ],
      "text/plain": [
       "            Position  Level   Salary\n",
       "0   Business Analyst      1    45000\n",
       "1  Junior Consultant      2    50000\n",
       "2  Senior Consultant      3    60000\n",
       "3            Manager      4    80000\n",
       "4    Country Manager      5   110000\n",
       "5     Region Manager      6   150000\n",
       "6            Partner      7   200000\n",
       "7     Senior Partner      8   300000\n",
       "8            C-level      9   500000\n",
       "9                CEO     10  1000000"
      ]
     },
     "execution_count": 3,
     "metadata": {},
     "output_type": "execute_result"
    }
   ],
   "source": [
    "dataset"
   ]
  },
  {
   "cell_type": "code",
   "execution_count": 4,
   "id": "3c482f0f",
   "metadata": {},
   "outputs": [
    {
     "data": {
      "text/plain": [
       "array([[ 1],\n",
       "       [ 2],\n",
       "       [ 3],\n",
       "       [ 4],\n",
       "       [ 5],\n",
       "       [ 6],\n",
       "       [ 7],\n",
       "       [ 8],\n",
       "       [ 9],\n",
       "       [10]], dtype=int64)"
      ]
     },
     "execution_count": 4,
     "metadata": {},
     "output_type": "execute_result"
    }
   ],
   "source": [
    "x"
   ]
  },
  {
   "cell_type": "code",
   "execution_count": 5,
   "id": "9605d462",
   "metadata": {},
   "outputs": [
    {
     "data": {
      "text/plain": [
       "array([  45000,   50000,   60000,   80000,  110000,  150000,  200000,\n",
       "        300000,  500000, 1000000], dtype=int64)"
      ]
     },
     "execution_count": 5,
     "metadata": {},
     "output_type": "execute_result"
    }
   ],
   "source": [
    "y"
   ]
  },
  {
   "cell_type": "markdown",
   "id": "bbc28906",
   "metadata": {},
   "source": [
    "# Training the Random Forest Regression Model on the Whole Dataset"
   ]
  },
  {
   "cell_type": "code",
   "execution_count": 6,
   "id": "2e57fa0e",
   "metadata": {},
   "outputs": [
    {
     "data": {
      "text/plain": [
       "RandomForestRegressor(n_estimators=10, random_state=0)"
      ]
     },
     "execution_count": 6,
     "metadata": {},
     "output_type": "execute_result"
    }
   ],
   "source": [
    "from sklearn.ensemble import RandomForestRegressor\n",
    "regressor = RandomForestRegressor(n_estimators = 10, random_state=0)\n",
    "regressor.fit(x,y)"
   ]
  },
  {
   "cell_type": "code",
   "execution_count": 7,
   "id": "ba8d12dd",
   "metadata": {},
   "outputs": [
    {
     "data": {
      "text/plain": [
       "array([167000.])"
      ]
     },
     "execution_count": 7,
     "metadata": {},
     "output_type": "execute_result"
    }
   ],
   "source": [
    "regressor.predict([[6.5]]) # predicting the result by training the model"
   ]
  },
  {
   "cell_type": "markdown",
   "id": "0b10ce54",
   "metadata": {},
   "source": [
    "# Visualising the Random Forest Regressionresults(higher resolution)"
   ]
  },
  {
   "cell_type": "code",
   "execution_count": 9,
   "id": "93faa790",
   "metadata": {},
   "outputs": [
    {
     "data": {
      "image/png": "[encoded data removed]",
      "text/plain": [
       "<Figure size 432x288 with 1 Axes>"
      ]
     },
     "metadata": {
      "needs_background": "light"
     },
     "output_type": "display_data"
    }
   ],
   "source": [
    "x_grid = np.arange(min(x), max(x), 0.01)\n",
    "x_grid = x_grid.reshape((len(x_grid), 1))\n",
    "plt.scatter(x,y,color= 'red')\n",
    "plt.plot(x_grid, regressor.predict(x_grid),color='blue')\n",
    "plt.title('Truth or Bluff (Random Forest Regression)')\n",
    "plt.xlabel('Position level')\n",
    "plt.ylabel('Salary')\n",
    "plt.show()"
   ]
  },
  {
   "cell_type": "markdown",
   "id": "690de4bb",
   "metadata": {},
   "source": [
    "# Reading the New File "
   ]
  },
  {
   "cell_type": "code",
   "execution_count": 15,
   "id": "001c9661",
   "metadata": {},
   "outputs": [],
   "source": [
    "df= pd.read_csv('ML-chat-reg.csv')"
   ]
  },
  {
   "cell_type": "code",
   "execution_count": 17,
   "id": "266bde6f",
   "metadata": {},
   "outputs": [
    {
     "data": {
      "text/html": [
       "<div>\n",
       "<style scoped>\n",
       "    .dataframe tbody tr th:only-of-type {\n",
       "        vertical-align: middle;\n",
       "    }\n",
       "\n",
       "    .dataframe tbody tr th {\n",
       "        vertical-align: top;\n",
       "    }\n",
       "\n",
       "    .dataframe thead th {\n",
       "        text-align: right;\n",
       "    }\n",
       "</style>\n",
       "<table border=\"1\" class=\"dataframe\">\n",
       "  <thead>\n",
       "    <tr style=\"text-align: right;\">\n",
       "      <th></th>\n",
       "      <th>age</th>\n",
       "      <th>height</th>\n",
       "      <th>weight</th>\n",
       "      <th>gender</th>\n",
       "      <th>likeness</th>\n",
       "    </tr>\n",
       "  </thead>\n",
       "  <tbody>\n",
       "    <tr>\n",
       "      <th>0</th>\n",
       "      <td>27</td>\n",
       "      <td>170.688</td>\n",
       "      <td>76.0</td>\n",
       "      <td>Male</td>\n",
       "      <td>Biryani</td>\n",
       "    </tr>\n",
       "    <tr>\n",
       "      <th>1</th>\n",
       "      <td>41</td>\n",
       "      <td>165.000</td>\n",
       "      <td>70.0</td>\n",
       "      <td>Male</td>\n",
       "      <td>Biryani</td>\n",
       "    </tr>\n",
       "    <tr>\n",
       "      <th>2</th>\n",
       "      <td>29</td>\n",
       "      <td>171.000</td>\n",
       "      <td>80.0</td>\n",
       "      <td>Male</td>\n",
       "      <td>Biryani</td>\n",
       "    </tr>\n",
       "    <tr>\n",
       "      <th>3</th>\n",
       "      <td>27</td>\n",
       "      <td>173.000</td>\n",
       "      <td>102.0</td>\n",
       "      <td>Male</td>\n",
       "      <td>Biryani</td>\n",
       "    </tr>\n",
       "    <tr>\n",
       "      <th>4</th>\n",
       "      <td>29</td>\n",
       "      <td>164.000</td>\n",
       "      <td>67.0</td>\n",
       "      <td>Male</td>\n",
       "      <td>Biryani</td>\n",
       "    </tr>\n",
       "    <tr>\n",
       "      <th>...</th>\n",
       "      <td>...</td>\n",
       "      <td>...</td>\n",
       "      <td>...</td>\n",
       "      <td>...</td>\n",
       "      <td>...</td>\n",
       "    </tr>\n",
       "    <tr>\n",
       "      <th>240</th>\n",
       "      <td>31</td>\n",
       "      <td>160.000</td>\n",
       "      <td>60.0</td>\n",
       "      <td>Male</td>\n",
       "      <td>Pakora</td>\n",
       "    </tr>\n",
       "    <tr>\n",
       "      <th>241</th>\n",
       "      <td>26</td>\n",
       "      <td>172.000</td>\n",
       "      <td>70.0</td>\n",
       "      <td>Male</td>\n",
       "      <td>Biryani</td>\n",
       "    </tr>\n",
       "    <tr>\n",
       "      <th>242</th>\n",
       "      <td>40</td>\n",
       "      <td>178.000</td>\n",
       "      <td>80.0</td>\n",
       "      <td>Male</td>\n",
       "      <td>Biryani</td>\n",
       "    </tr>\n",
       "    <tr>\n",
       "      <th>243</th>\n",
       "      <td>25</td>\n",
       "      <td>5.700</td>\n",
       "      <td>65.0</td>\n",
       "      <td>Male</td>\n",
       "      <td>Biryani</td>\n",
       "    </tr>\n",
       "    <tr>\n",
       "      <th>244</th>\n",
       "      <td>33</td>\n",
       "      <td>157.000</td>\n",
       "      <td>56.0</td>\n",
       "      <td>Female</td>\n",
       "      <td>Samosa</td>\n",
       "    </tr>\n",
       "  </tbody>\n",
       "</table>\n",
       "<p>245 rows × 5 columns</p>\n",
       "</div>"
      ],
      "text/plain": [
       "     age   height  weight  gender likeness\n",
       "0     27  170.688    76.0    Male  Biryani\n",
       "1     41  165.000    70.0    Male  Biryani\n",
       "2     29  171.000    80.0    Male  Biryani\n",
       "3     27  173.000   102.0    Male  Biryani\n",
       "4     29  164.000    67.0    Male  Biryani\n",
       "..   ...      ...     ...     ...      ...\n",
       "240   31  160.000    60.0    Male   Pakora\n",
       "241   26  172.000    70.0    Male  Biryani\n",
       "242   40  178.000    80.0    Male  Biryani\n",
       "243   25    5.700    65.0    Male  Biryani\n",
       "244   33  157.000    56.0  Female   Samosa\n",
       "\n",
       "[245 rows x 5 columns]"
      ]
     },
     "execution_count": 17,
     "metadata": {},
     "output_type": "execute_result"
    }
   ],
   "source": [
    "df"
   ]
  },
  {
   "cell_type": "markdown",
   "id": "23cd2bd9",
   "metadata": {},
   "source": [
    "# Taking the 40 first Rows"
   ]
  },
  {
   "cell_type": "code",
   "execution_count": 13,
   "id": "f7c4e6e8",
   "metadata": {},
   "outputs": [
    {
     "data": {
      "text/html": [
       "<div>\n",
       "<style scoped>\n",
       "    .dataframe tbody tr th:only-of-type {\n",
       "        vertical-align: middle;\n",
       "    }\n",
       "\n",
       "    .dataframe tbody tr th {\n",
       "        vertical-align: top;\n",
       "    }\n",
       "\n",
       "    .dataframe thead th {\n",
       "        text-align: right;\n",
       "    }\n",
       "</style>\n",
       "<table border=\"1\" class=\"dataframe\">\n",
       "  <thead>\n",
       "    <tr style=\"text-align: right;\">\n",
       "      <th></th>\n",
       "      <th>age</th>\n",
       "      <th>height</th>\n",
       "      <th>weight</th>\n",
       "      <th>gender</th>\n",
       "      <th>likeness</th>\n",
       "    </tr>\n",
       "  </thead>\n",
       "  <tbody>\n",
       "    <tr>\n",
       "      <th>0</th>\n",
       "      <td>27</td>\n",
       "      <td>170.688</td>\n",
       "      <td>76.00</td>\n",
       "      <td>Male</td>\n",
       "      <td>Biryani</td>\n",
       "    </tr>\n",
       "    <tr>\n",
       "      <th>1</th>\n",
       "      <td>41</td>\n",
       "      <td>165.000</td>\n",
       "      <td>70.00</td>\n",
       "      <td>Male</td>\n",
       "      <td>Biryani</td>\n",
       "    </tr>\n",
       "    <tr>\n",
       "      <th>2</th>\n",
       "      <td>29</td>\n",
       "      <td>171.000</td>\n",
       "      <td>80.00</td>\n",
       "      <td>Male</td>\n",
       "      <td>Biryani</td>\n",
       "    </tr>\n",
       "    <tr>\n",
       "      <th>3</th>\n",
       "      <td>27</td>\n",
       "      <td>173.000</td>\n",
       "      <td>102.00</td>\n",
       "      <td>Male</td>\n",
       "      <td>Biryani</td>\n",
       "    </tr>\n",
       "    <tr>\n",
       "      <th>4</th>\n",
       "      <td>29</td>\n",
       "      <td>164.000</td>\n",
       "      <td>67.00</td>\n",
       "      <td>Male</td>\n",
       "      <td>Biryani</td>\n",
       "    </tr>\n",
       "    <tr>\n",
       "      <th>5</th>\n",
       "      <td>28</td>\n",
       "      <td>174.000</td>\n",
       "      <td>46.00</td>\n",
       "      <td>Female</td>\n",
       "      <td>Biryani</td>\n",
       "    </tr>\n",
       "    <tr>\n",
       "      <th>6</th>\n",
       "      <td>27</td>\n",
       "      <td>151.000</td>\n",
       "      <td>64.30</td>\n",
       "      <td>Female</td>\n",
       "      <td>Biryani</td>\n",
       "    </tr>\n",
       "    <tr>\n",
       "      <th>7</th>\n",
       "      <td>34</td>\n",
       "      <td>176.500</td>\n",
       "      <td>98.00</td>\n",
       "      <td>Male</td>\n",
       "      <td>Biryani</td>\n",
       "    </tr>\n",
       "    <tr>\n",
       "      <th>8</th>\n",
       "      <td>32</td>\n",
       "      <td>181.000</td>\n",
       "      <td>87.50</td>\n",
       "      <td>Male</td>\n",
       "      <td>Biryani</td>\n",
       "    </tr>\n",
       "    <tr>\n",
       "      <th>9</th>\n",
       "      <td>22</td>\n",
       "      <td>184.500</td>\n",
       "      <td>80.00</td>\n",
       "      <td>Male</td>\n",
       "      <td>Biryani</td>\n",
       "    </tr>\n",
       "    <tr>\n",
       "      <th>10</th>\n",
       "      <td>29</td>\n",
       "      <td>163.500</td>\n",
       "      <td>65.00</td>\n",
       "      <td>Male</td>\n",
       "      <td>Pakora</td>\n",
       "    </tr>\n",
       "    <tr>\n",
       "      <th>11</th>\n",
       "      <td>29</td>\n",
       "      <td>176.000</td>\n",
       "      <td>78.00</td>\n",
       "      <td>Male</td>\n",
       "      <td>Samosa</td>\n",
       "    </tr>\n",
       "    <tr>\n",
       "      <th>12</th>\n",
       "      <td>23</td>\n",
       "      <td>178.000</td>\n",
       "      <td>62.00</td>\n",
       "      <td>Male</td>\n",
       "      <td>Samosa</td>\n",
       "    </tr>\n",
       "    <tr>\n",
       "      <th>13</th>\n",
       "      <td>28</td>\n",
       "      <td>168.000</td>\n",
       "      <td>74.00</td>\n",
       "      <td>Male</td>\n",
       "      <td>Biryani</td>\n",
       "    </tr>\n",
       "    <tr>\n",
       "      <th>14</th>\n",
       "      <td>25</td>\n",
       "      <td>165.000</td>\n",
       "      <td>102.00</td>\n",
       "      <td>Male</td>\n",
       "      <td>Biryani</td>\n",
       "    </tr>\n",
       "    <tr>\n",
       "      <th>15</th>\n",
       "      <td>27</td>\n",
       "      <td>174.000</td>\n",
       "      <td>78.00</td>\n",
       "      <td>Male</td>\n",
       "      <td>Samosa</td>\n",
       "    </tr>\n",
       "    <tr>\n",
       "      <th>16</th>\n",
       "      <td>33</td>\n",
       "      <td>162.000</td>\n",
       "      <td>93.00</td>\n",
       "      <td>Male</td>\n",
       "      <td>Biryani</td>\n",
       "    </tr>\n",
       "    <tr>\n",
       "      <th>17</th>\n",
       "      <td>28</td>\n",
       "      <td>176.500</td>\n",
       "      <td>68.00</td>\n",
       "      <td>Male</td>\n",
       "      <td>Samosa</td>\n",
       "    </tr>\n",
       "    <tr>\n",
       "      <th>18</th>\n",
       "      <td>21</td>\n",
       "      <td>5.600</td>\n",
       "      <td>71.50</td>\n",
       "      <td>Male</td>\n",
       "      <td>Biryani</td>\n",
       "    </tr>\n",
       "    <tr>\n",
       "      <th>19</th>\n",
       "      <td>25</td>\n",
       "      <td>185.900</td>\n",
       "      <td>135.00</td>\n",
       "      <td>Male</td>\n",
       "      <td>Biryani</td>\n",
       "    </tr>\n",
       "    <tr>\n",
       "      <th>20</th>\n",
       "      <td>24</td>\n",
       "      <td>183.000</td>\n",
       "      <td>82.00</td>\n",
       "      <td>Male</td>\n",
       "      <td>Samosa</td>\n",
       "    </tr>\n",
       "    <tr>\n",
       "      <th>21</th>\n",
       "      <td>30</td>\n",
       "      <td>165.000</td>\n",
       "      <td>70.00</td>\n",
       "      <td>Female</td>\n",
       "      <td>Biryani</td>\n",
       "    </tr>\n",
       "    <tr>\n",
       "      <th>22</th>\n",
       "      <td>30</td>\n",
       "      <td>169.000</td>\n",
       "      <td>60.00</td>\n",
       "      <td>Male</td>\n",
       "      <td>Pakora</td>\n",
       "    </tr>\n",
       "    <tr>\n",
       "      <th>23</th>\n",
       "      <td>32</td>\n",
       "      <td>171.000</td>\n",
       "      <td>84.50</td>\n",
       "      <td>Male</td>\n",
       "      <td>Biryani</td>\n",
       "    </tr>\n",
       "    <tr>\n",
       "      <th>24</th>\n",
       "      <td>30</td>\n",
       "      <td>154.500</td>\n",
       "      <td>65.00</td>\n",
       "      <td>Female</td>\n",
       "      <td>Biryani</td>\n",
       "    </tr>\n",
       "    <tr>\n",
       "      <th>25</th>\n",
       "      <td>25</td>\n",
       "      <td>178.000</td>\n",
       "      <td>70.00</td>\n",
       "      <td>Male</td>\n",
       "      <td>Biryani</td>\n",
       "    </tr>\n",
       "    <tr>\n",
       "      <th>26</th>\n",
       "      <td>34</td>\n",
       "      <td>171.000</td>\n",
       "      <td>59.00</td>\n",
       "      <td>Male</td>\n",
       "      <td>Pakora</td>\n",
       "    </tr>\n",
       "    <tr>\n",
       "      <th>27</th>\n",
       "      <td>32</td>\n",
       "      <td>165.000</td>\n",
       "      <td>78.00</td>\n",
       "      <td>Male</td>\n",
       "      <td>Biryani</td>\n",
       "    </tr>\n",
       "    <tr>\n",
       "      <th>28</th>\n",
       "      <td>24</td>\n",
       "      <td>173.000</td>\n",
       "      <td>68.00</td>\n",
       "      <td>Male</td>\n",
       "      <td>Biryani</td>\n",
       "    </tr>\n",
       "    <tr>\n",
       "      <th>29</th>\n",
       "      <td>30</td>\n",
       "      <td>161.544</td>\n",
       "      <td>62.00</td>\n",
       "      <td>Female</td>\n",
       "      <td>Biryani</td>\n",
       "    </tr>\n",
       "    <tr>\n",
       "      <th>30</th>\n",
       "      <td>21</td>\n",
       "      <td>155.000</td>\n",
       "      <td>58.00</td>\n",
       "      <td>Female</td>\n",
       "      <td>Samosa</td>\n",
       "    </tr>\n",
       "    <tr>\n",
       "      <th>31</th>\n",
       "      <td>31</td>\n",
       "      <td>173.700</td>\n",
       "      <td>102.30</td>\n",
       "      <td>Male</td>\n",
       "      <td>Biryani</td>\n",
       "    </tr>\n",
       "    <tr>\n",
       "      <th>32</th>\n",
       "      <td>22</td>\n",
       "      <td>162.500</td>\n",
       "      <td>64.00</td>\n",
       "      <td>Male</td>\n",
       "      <td>Samosa</td>\n",
       "    </tr>\n",
       "    <tr>\n",
       "      <th>33</th>\n",
       "      <td>19</td>\n",
       "      <td>164.000</td>\n",
       "      <td>50.00</td>\n",
       "      <td>Male</td>\n",
       "      <td>Samosa</td>\n",
       "    </tr>\n",
       "    <tr>\n",
       "      <th>34</th>\n",
       "      <td>30</td>\n",
       "      <td>164.000</td>\n",
       "      <td>75.00</td>\n",
       "      <td>Male</td>\n",
       "      <td>Samosa</td>\n",
       "    </tr>\n",
       "    <tr>\n",
       "      <th>35</th>\n",
       "      <td>27</td>\n",
       "      <td>170.000</td>\n",
       "      <td>77.00</td>\n",
       "      <td>Male</td>\n",
       "      <td>Biryani</td>\n",
       "    </tr>\n",
       "    <tr>\n",
       "      <th>36</th>\n",
       "      <td>34</td>\n",
       "      <td>177.800</td>\n",
       "      <td>82.72</td>\n",
       "      <td>Male</td>\n",
       "      <td>Samosa</td>\n",
       "    </tr>\n",
       "    <tr>\n",
       "      <th>37</th>\n",
       "      <td>24</td>\n",
       "      <td>177.000</td>\n",
       "      <td>93.00</td>\n",
       "      <td>Male</td>\n",
       "      <td>Biryani</td>\n",
       "    </tr>\n",
       "    <tr>\n",
       "      <th>38</th>\n",
       "      <td>26</td>\n",
       "      <td>164.500</td>\n",
       "      <td>55.00</td>\n",
       "      <td>Male</td>\n",
       "      <td>Samosa</td>\n",
       "    </tr>\n",
       "    <tr>\n",
       "      <th>39</th>\n",
       "      <td>22</td>\n",
       "      <td>155.000</td>\n",
       "      <td>50.00</td>\n",
       "      <td>Male</td>\n",
       "      <td>Biryani</td>\n",
       "    </tr>\n",
       "  </tbody>\n",
       "</table>\n",
       "</div>"
      ],
      "text/plain": [
       "    age   height  weight  gender likeness\n",
       "0    27  170.688   76.00    Male  Biryani\n",
       "1    41  165.000   70.00    Male  Biryani\n",
       "2    29  171.000   80.00    Male  Biryani\n",
       "3    27  173.000  102.00    Male  Biryani\n",
       "4    29  164.000   67.00    Male  Biryani\n",
       "5    28  174.000   46.00  Female  Biryani\n",
       "6    27  151.000   64.30  Female  Biryani\n",
       "7    34  176.500   98.00    Male  Biryani\n",
       "8    32  181.000   87.50    Male  Biryani\n",
       "9    22  184.500   80.00    Male  Biryani\n",
       "10   29  163.500   65.00    Male   Pakora\n",
       "11   29  176.000   78.00    Male   Samosa\n",
       "12   23  178.000   62.00    Male   Samosa\n",
       "13   28  168.000   74.00    Male  Biryani\n",
       "14   25  165.000  102.00    Male  Biryani\n",
       "15   27  174.000   78.00    Male   Samosa\n",
       "16   33  162.000   93.00    Male  Biryani\n",
       "17   28  176.500   68.00    Male   Samosa\n",
       "18   21    5.600   71.50    Male  Biryani\n",
       "19   25  185.900  135.00    Male  Biryani\n",
       "20   24  183.000   82.00    Male   Samosa\n",
       "21   30  165.000   70.00  Female  Biryani\n",
       "22   30  169.000   60.00    Male   Pakora\n",
       "23   32  171.000   84.50    Male  Biryani\n",
       "24   30  154.500   65.00  Female  Biryani\n",
       "25   25  178.000   70.00    Male  Biryani\n",
       "26   34  171.000   59.00    Male   Pakora\n",
       "27   32  165.000   78.00    Male  Biryani\n",
       "28   24  173.000   68.00    Male  Biryani\n",
       "29   30  161.544   62.00  Female  Biryani\n",
       "30   21  155.000   58.00  Female   Samosa\n",
       "31   31  173.700  102.30    Male  Biryani\n",
       "32   22  162.500   64.00    Male   Samosa\n",
       "33   19  164.000   50.00    Male   Samosa\n",
       "34   30  164.000   75.00    Male   Samosa\n",
       "35   27  170.000   77.00    Male  Biryani\n",
       "36   34  177.800   82.72    Male   Samosa\n",
       "37   24  177.000   93.00    Male  Biryani\n",
       "38   26  164.500   55.00    Male   Samosa\n",
       "39   22  155.000   50.00    Male  Biryani"
      ]
     },
     "execution_count": 13,
     "metadata": {},
     "output_type": "execute_result"
    }
   ],
   "source": [
    "F.head(40)"
   ]
  },
  {
   "cell_type": "code",
   "execution_count": 18,
   "id": "025e0caf",
   "metadata": {},
   "outputs": [
    {
     "data": {
      "text/plain": [
       "(245, 5)"
      ]
     },
     "execution_count": 18,
     "metadata": {},
     "output_type": "execute_result"
    }
   ],
   "source": [
    "df.shape # checking the shape of data such as rows and columns"
   ]
  },
  {
   "cell_type": "markdown",
   "id": "5aae47e9",
   "metadata": {},
   "source": [
    "# transform male in to integer (male to 1 and female to 0)"
   ]
  },
  {
   "cell_type": "code",
   "execution_count": 27,
   "id": "49babc7e",
   "metadata": {},
   "outputs": [],
   "source": [
    "df['gender'] = df['gender'].replace('Male',1)\n",
    "df['gender'] = df['gender'].replace('Female', 0)"
   ]
  },
  {
   "cell_type": "code",
   "execution_count": 28,
   "id": "aa3b11d2",
   "metadata": {},
   "outputs": [
    {
     "data": {
      "text/plain": [
       "(     age  height  weight  gender likeness\n",
       " 240   31   160.0    60.0       1   Pakora\n",
       " 241   26   172.0    70.0       1  Biryani\n",
       " 242   40   178.0    80.0       1  Biryani\n",
       " 243   25     5.7    65.0       1  Biryani\n",
       " 244   33   157.0    56.0       0   Samosa,\n",
       "    age   height  weight  gender likeness\n",
       " 0   27  170.688    76.0       1  Biryani\n",
       " 1   41  165.000    70.0       1  Biryani\n",
       " 2   29  171.000    80.0       1  Biryani\n",
       " 3   27  173.000   102.0       1  Biryani\n",
       " 4   29  164.000    67.0       1  Biryani)"
      ]
     },
     "execution_count": 28,
     "metadata": {},
     "output_type": "execute_result"
    }
   ],
   "source": [
    "df.tail(),df.head()"
   ]
  },
  {
   "cell_type": "code",
   "execution_count": 29,
   "id": "e7e4f5d8",
   "metadata": {},
   "outputs": [],
   "source": [
    "# selection of input and out variables\n",
    "x = df[['weight','gender']] #its 2d array so need to two[[]]\n",
    "y = df['likeness']"
   ]
  },
  {
   "cell_type": "code",
   "execution_count": 30,
   "id": "59292dc2",
   "metadata": {},
   "outputs": [
    {
     "data": {
      "text/plain": [
       "0    Biryani\n",
       "1    Biryani\n",
       "2    Biryani\n",
       "3    Biryani\n",
       "4    Biryani\n",
       "Name: likeness, dtype: object"
      ]
     },
     "execution_count": 30,
     "metadata": {},
     "output_type": "execute_result"
    }
   ],
   "source": [
    "y.head()"
   ]
  },
  {
   "cell_type": "markdown",
   "id": "dfeb2c33",
   "metadata": {},
   "source": [
    "# apply machine learning"
   ]
  },
  {
   "cell_type": "code",
   "execution_count": 31,
   "id": "4d670059",
   "metadata": {},
   "outputs": [
    {
     "data": {
      "text/plain": [
       "array(['Biryani'], dtype=object)"
      ]
     },
     "execution_count": 31,
     "metadata": {},
     "output_type": "execute_result"
    }
   ],
   "source": [
    "from sklearn.tree import DecisionTreeClassifier\n",
    "# create and fit the model (decision tree classifer)\n",
    "model = DecisionTreeClassifier().fit(x,y)\n",
    "\n",
    "# prediction\n",
    "model.predict([[23,0]])"
   ]
  },
  {
   "cell_type": "markdown",
   "id": "6983eb71",
   "metadata": {},
   "source": [
    "# To check the accuracy of the model"
   ]
  },
  {
   "cell_type": "code",
   "execution_count": 32,
   "id": "0d1c142b",
   "metadata": {},
   "outputs": [],
   "source": [
    "# to do split test data and train data\n",
    "from sklearn.model_selection import train_test_split\n",
    "from sklearn.metrics import accuracy_score # import metrix from sk Learn\n",
    "# spliting data set into the test and training\n",
    "x_train,x_test,y_train,y_test = train_test_split(x,y,test_size=0.2,random_state=0) # random_state =0 or 1\n",
    "# create model\n",
    "model = DecisionTreeClassifier()\n"
   ]
  },
  {
   "cell_type": "markdown",
   "id": "4bbd4ff1",
   "metadata": {},
   "source": [
    "# transform male in to integer (Biryani to 3 and Samosa  to 4)"
   ]
  },
  {
   "cell_type": "code",
   "execution_count": 43,
   "id": "6b032774",
   "metadata": {},
   "outputs": [],
   "source": [
    "df['likeness'] = df['likeness'].replace('Biryani',3)\n",
    "df['likeness'] = df['likeness'].replace('Samosa', 4)\n",
    "df['likeness'] = df['likeness'].replace('Pakora', 5)"
   ]
  },
  {
   "cell_type": "code",
   "execution_count": 44,
   "id": "5dc3b054",
   "metadata": {},
   "outputs": [
    {
     "data": {
      "text/plain": [
       "(     age  height  weight  gender  likeness\n",
       " 240   31   160.0    60.0       1         5\n",
       " 241   26   172.0    70.0       1         3\n",
       " 242   40   178.0    80.0       1         3\n",
       " 243   25     5.7    65.0       1         3\n",
       " 244   33   157.0    56.0       0         4,\n",
       "    age   height  weight  gender  likeness\n",
       " 0   27  170.688    76.0       1         3\n",
       " 1   41  165.000    70.0       1         3\n",
       " 2   29  171.000    80.0       1         3\n",
       " 3   27  173.000   102.0       1         3\n",
       " 4   29  164.000    67.0       1         3)"
      ]
     },
     "execution_count": 44,
     "metadata": {},
     "output_type": "execute_result"
    }
   ],
   "source": [
    "df.tail(),df.head()"
   ]
  },
  {
   "cell_type": "code",
   "execution_count": 50,
   "id": "6576f450",
   "metadata": {},
   "outputs": [],
   "source": [
    "# selection of input and out variables\n",
    "x = df[['gender']] #its 2d array so need to two[[]]\n",
    "y = df['likeness']"
   ]
  },
  {
   "cell_type": "code",
   "execution_count": 51,
   "id": "a53c688a",
   "metadata": {},
   "outputs": [
    {
     "data": {
      "text/plain": [
       "0     3\n",
       "1     3\n",
       "2     3\n",
       "3     3\n",
       "4     3\n",
       "5     3\n",
       "6     3\n",
       "7     3\n",
       "8     3\n",
       "9     3\n",
       "10    5\n",
       "11    4\n",
       "12    4\n",
       "13    3\n",
       "14    3\n",
       "15    4\n",
       "16    3\n",
       "17    4\n",
       "18    3\n",
       "19    3\n",
       "20    4\n",
       "21    3\n",
       "22    5\n",
       "Name: likeness, dtype: int64"
      ]
     },
     "execution_count": 51,
     "metadata": {},
     "output_type": "execute_result"
    }
   ],
   "source": [
    "y.head(23)"
   ]
  },
  {
   "cell_type": "markdown",
   "id": "34fba250",
   "metadata": {},
   "source": [
    "# apply machine learning"
   ]
  },
  {
   "cell_type": "code",
   "execution_count": 55,
   "id": "61331dfe",
   "metadata": {},
   "outputs": [
    {
     "data": {
      "text/plain": [
       "DecisionTreeRegressor()"
      ]
     },
     "execution_count": 55,
     "metadata": {},
     "output_type": "execute_result"
    }
   ],
   "source": [
    "from sklearn.tree import DecisionTreeRegressor\n",
    "# create and fit the model (decision tree classifer)\n",
    "model = DecisionTreeRegressor().fit(x,y)\n",
    "model"
   ]
  },
  {
   "cell_type": "code",
   "execution_count": 54,
   "id": "f78cac5d",
   "metadata": {},
   "outputs": [
    {
     "data": {
      "text/plain": [
       "array([3.5049505])"
      ]
     },
     "execution_count": 54,
     "metadata": {},
     "output_type": "execute_result"
    }
   ],
   "source": [
    "# prediction\n",
    "model.predict([[1]])"
   ]
  },
  {
   "cell_type": "code",
   "execution_count": null,
   "id": "d8b6b6d3",
   "metadata": {},
   "outputs": [],
   "source": []
  }
 ],
 "metadata": {
  "kernelspec": {
   "display_name": "Python 3 (ipykernel)",
   "language": "python",
   "name": "python3"
  },
  "language_info": {
   "codemirror_mode": {
    "name": "ipython",
    "version": 3
   },
   "file_extension": ".py",
   "mimetype": "text/x-python",
   "name": "python",
   "nbconvert_exporter": "python",
   "pygments_lexer": "ipython3",
   "version": "3.9.13"
  }
 },
 "nbformat": 4,
 "nbformat_minor": 5
}
